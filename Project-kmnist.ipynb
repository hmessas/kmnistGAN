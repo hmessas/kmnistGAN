{
 "cells": [
  {
   "attachments": {},
   "cell_type": "markdown",
   "metadata": {},
   "source": [
    "CONFIGURAÇÕES INICIAIS E CARREGAR O DATASET"
   ]
  },
  {
   "cell_type": "code",
   "execution_count": 1,
   "metadata": {},
   "outputs": [
    {
     "data": {
      "text/plain": [
       "[PhysicalDevice(name='/physical_device:GPU:0', device_type='GPU')]"
      ]
     },
     "execution_count": 1,
     "metadata": {},
     "output_type": "execute_result"
    }
   ],
   "source": [
    "import tensorflow as tf\n",
    "gpus =tf.config.experimental.list_physical_devices('GPU')\n",
    "for gpu in gpus:\n",
    "    tf.config.experimental.set_memory_growth(gpu,True)\n",
    "tf.config.list_physical_devices(\"GPU\")"
   ]
  },
  {
   "cell_type": "code",
   "execution_count": 2,
   "metadata": {},
   "outputs": [],
   "source": [
    "#trazer datasets\n",
    "import tensorflow_datasets as tfds\n",
    "#import matplotlib para vizualizar imagens\n",
    "from matplotlib import pyplot as plt\n",
    "\n",
    "ds=tfds.load('kmnist',split='train')"
   ]
  },
  {
   "cell_type": "code",
   "execution_count": null,
   "metadata": {},
   "outputs": [],
   "source": [
    "ds.as_numpy_iterator().next()"
   ]
  },
  {
   "attachments": {},
   "cell_type": "markdown",
   "metadata": {},
   "source": [
    "VIZUALIZAR E TRATAR IMAGENS"
   ]
  },
  {
   "cell_type": "code",
   "execution_count": 4,
   "metadata": {},
   "outputs": [],
   "source": [
    "#Ver imagens e construir dataset\n",
    "import numpy as np"
   ]
  },
  {
   "cell_type": "code",
   "execution_count": 5,
   "metadata": {},
   "outputs": [],
   "source": [
    "dataiterator = ds.as_numpy_iterator()"
   ]
  },
  {
   "cell_type": "code",
   "execution_count": null,
   "metadata": {},
   "outputs": [],
   "source": [
    "#'retira' dados do pipeline\n",
    "dataiterator.next()"
   ]
  },
  {
   "cell_type": "code",
   "execution_count": 7,
   "metadata": {},
   "outputs": [
    {
     "data": {
      "text/plain": [
       "(28, 28)"
      ]
     },
     "execution_count": 7,
     "metadata": {},
     "output_type": "execute_result"
    }
   ],
   "source": [
    "np.squeeze(dataiterator.next()['image']).shape"
   ]
  },
  {
   "cell_type": "code",
   "execution_count": 8,
   "metadata": {},
   "outputs": [
    {
     "data": {
      "image/png": "[encoded data removed]",
      "text/plain": [
       "<Figure size 2000x2000 with 4 Axes>"
      ]
     },
     "metadata": {},
     "output_type": "display_data"
    }
   ],
   "source": [
    "#plot images\n",
    "fig, ax = plt.subplots(ncols=4,figsize=(20,20))\n",
    "for idx in range(4):\n",
    "    #pega um novo batch\n",
    "    batch=dataiterator.next()\n",
    "    #plota a imagem\n",
    "    ax[idx].imshow(np.squeeze(batch['image']))\n",
    "    #adiciona a label\n",
    "    ax[idx].title.set_text(batch['label'])"
   ]
  },
  {
   "cell_type": "code",
   "execution_count": 9,
   "metadata": {},
   "outputs": [],
   "source": [
    "#transforma a escla e retorna a imagem ---- dados entre 0 e 1 melhoram a rede neural e diminuem o tempo de treino\n",
    "def scales_images(data):\n",
    "    image=data['image']/255\n",
    "    return image"
   ]
  },
  {
   "cell_type": "code",
   "execution_count": 10,
   "metadata": {},
   "outputs": [],
   "source": [
    "'''Construir o banco de dados\n",
    "é necessário mapear, fazer cache, shuffle, batch e prefetch '''\n",
    "\n",
    "ds = ds.map(scales_images) #passa o dataset pela função de scalling\n",
    "#data augmentation seria feito aqui\n",
    "ds = ds.cache() \n",
    "ds = ds.shuffle(60000) #embaralha\n",
    "ds = ds.batch(128) #forma batches de 128 imagens\n",
    "ds = ds.prefetch(64) #reduz a probabilidade de bottleneck"
   ]
  },
  {
   "cell_type": "code",
   "execution_count": 11,
   "metadata": {},
   "outputs": [
    {
     "data": {
      "text/plain": [
       "(128, 28, 28, 1)"
      ]
     },
     "execution_count": 11,
     "metadata": {},
     "output_type": "execute_result"
    }
   ],
   "source": [
    "ds.as_numpy_iterator().next().shape #formato é de 128 (imagens), 28x28 pixels e 1 canal (cor, grascaled, se fosse rgb seriam 3 canais)"
   ]
  },
  {
   "attachments": {},
   "cell_type": "markdown",
   "metadata": {},
   "source": [
    "CONTRUÇÃO DOS MODELOS TANTO O GENERATOR QUANTO O DISCRIMINATOR"
   ]
  },
  {
   "cell_type": "code",
   "execution_count": 12,
   "metadata": {},
   "outputs": [],
   "source": [
    "#importar bibliotecas\n",
    "from tensorflow.keras.models import Sequential\n",
    "from tensorflow.keras.layers import Conv2D, Dense, Flatten, Reshape, LeakyReLU, Dropout, UpSampling2D"
   ]
  },
  {
   "cell_type": "code",
   "execution_count": 13,
   "metadata": {},
   "outputs": [],
   "source": [
    "# Construir o generator\n",
    "def build_generator():\n",
    "    model = Sequential()\n",
    "\n",
    "    # recebe valores aleatorios e transforma em 7*7*128 e começa a montar uma imagem\n",
    "    model.add(Dense(7*7*128,input_dim=128)) # input layer, 7*7*128 porque serão 128 valores(imagens) que serão convertidos em uma área de 7*7\n",
    "    model.add(LeakyReLU(0.2)) # consegue atender a situações não-lineares -- Não possui parametros (será possível ver no summary)\n",
    "    model.add(Reshape((7,7,128)))# \"converte\" em uma imagem 7*7 com 128 canais -- shape = (7,7,128), no final será (28,28,1)\n",
    "\n",
    "    # Upsampling block 1\n",
    "    model.add(UpSampling2D()) # Dobra o tamanho --> shape = (14,14,128) -- Também não possui parametros\n",
    "    model.add(Conv2D(128,5,padding='same')) # padding='same' impede que o formato da imagem diminua\n",
    "    model.add(LeakyReLU(0.2))\n",
    "\n",
    "    # Upsampling block 2\n",
    "    model.add(UpSampling2D())  # Shape = (28,28,128)\n",
    "    model.add(Conv2D(128,5,padding='same')) \n",
    "    model.add(LeakyReLU(0.2))\n",
    "\n",
    "    # Downsampling block 1\n",
    "    model.add(Conv2D(128,4,padding='same')) # Apenas adiciona parametros\n",
    "    model.add(LeakyReLU(0.2))\n",
    "\n",
    "    # Dowsampling block 2\n",
    "    model.add(Conv2D(128,4,padding='same'))\n",
    "    model.add(LeakyReLU(0.2))\n",
    "\n",
    "    # Ultima camada com o resultado\n",
    "    model.add(Conv2D(1,4,padding='same',activation='sigmoid'))\n",
    "    \n",
    "    return model"
   ]
  },
  {
   "cell_type": "code",
   "execution_count": 14,
   "metadata": {},
   "outputs": [],
   "source": [
    "generator = build_generator()"
   ]
  },
  {
   "cell_type": "code",
   "execution_count": 15,
   "metadata": {},
   "outputs": [
    {
     "name": "stdout",
     "output_type": "stream",
     "text": [
      "Model: \"sequential\"\n",
      "_________________________________________________________________\n",
      " Layer (type)                Output Shape              Param #   \n",
      "=================================================================\n",
      " dense (Dense)               (None, 6272)              809088    \n",
      "                                                                 \n",
      " leaky_re_lu (LeakyReLU)     (None, 6272)              0         \n",
      "                                                                 \n",
      " reshape (Reshape)           (None, 7, 7, 128)         0         \n",
      "                                                                 \n",
      " up_sampling2d (UpSampling2D  (None, 14, 14, 128)      0         \n",
      " )                                                               \n",
      "                                                                 \n",
      " conv2d (Conv2D)             (None, 14, 14, 128)       409728    \n",
      "                                                                 \n",
      " leaky_re_lu_1 (LeakyReLU)   (None, 14, 14, 128)       0         \n",
      "                                                                 \n",
      " up_sampling2d_1 (UpSampling  (None, 28, 28, 128)      0         \n",
      " 2D)                                                             \n",
      "                                                                 \n",
      " conv2d_1 (Conv2D)           (None, 28, 28, 128)       409728    \n",
      "                                                                 \n",
      " leaky_re_lu_2 (LeakyReLU)   (None, 28, 28, 128)       0         \n",
      "                                                                 \n",
      " conv2d_2 (Conv2D)           (None, 28, 28, 128)       262272    \n",
      "                                                                 \n",
      " leaky_re_lu_3 (LeakyReLU)   (None, 28, 28, 128)       0         \n",
      "                                                                 \n",
      " conv2d_3 (Conv2D)           (None, 28, 28, 128)       262272    \n",
      "                                                                 \n",
      " leaky_re_lu_4 (LeakyReLU)   (None, 28, 28, 128)       0         \n",
      "                                                                 \n",
      " conv2d_4 (Conv2D)           (None, 28, 28, 1)         2049      \n",
      "                                                                 \n",
      "=================================================================\n",
      "Total params: 2,155,137\n",
      "Trainable params: 2,155,137\n",
      "Non-trainable params: 0\n",
      "_________________________________________________________________\n"
     ]
    }
   ],
   "source": [
    "generator.summary()"
   ]
  },
  {
   "cell_type": "code",
   "execution_count": 16,
   "metadata": {},
   "outputs": [
    {
     "name": "stdout",
     "output_type": "stream",
     "text": [
      "1/1 [==============================] - 14s 14s/step\n"
     ]
    },
    {
     "data": {
      "text/plain": [
       "array([[[[0.5064109 ],\n",
       "         [0.5054443 ],\n",
       "         [0.49850667],\n",
       "         ...,\n",
       "         [0.50090426],\n",
       "         [0.5062501 ],\n",
       "         [0.5043996 ]],\n",
       "\n",
       "        [[0.5075286 ],\n",
       "         [0.504985  ],\n",
       "         [0.503167  ],\n",
       "         ...,\n",
       "         [0.49714288],\n",
       "         [0.5090398 ],\n",
       "         [0.5053843 ]],\n",
       "\n",
       "        [[0.51078594],\n",
       "         [0.5075161 ],\n",
       "         [0.50162315],\n",
       "         ...,\n",
       "         [0.5022055 ],\n",
       "         [0.5079985 ],\n",
       "         [0.50965166]],\n",
       "\n",
       "        ...,\n",
       "\n",
       "        [[0.48735484],\n",
       "         [0.48806214],\n",
       "         [0.48630306],\n",
       "         ...,\n",
       "         [0.50429404],\n",
       "         [0.50127727],\n",
       "         [0.50325704]],\n",
       "\n",
       "        [[0.49179232],\n",
       "         [0.49501324],\n",
       "         [0.49583587],\n",
       "         ...,\n",
       "         [0.5033194 ],\n",
       "         [0.50064075],\n",
       "         [0.503584  ]],\n",
       "\n",
       "        [[0.4968797 ],\n",
       "         [0.49809912],\n",
       "         [0.5017956 ],\n",
       "         ...,\n",
       "         [0.50187993],\n",
       "         [0.5000954 ],\n",
       "         [0.5011783 ]]],\n",
       "\n",
       "\n",
       "       [[[0.49735203],\n",
       "         [0.5007247 ],\n",
       "         [0.4960571 ],\n",
       "         ...,\n",
       "         [0.5018279 ],\n",
       "         [0.5072629 ],\n",
       "         [0.5030354 ]],\n",
       "\n",
       "        [[0.5011442 ],\n",
       "         [0.4995706 ],\n",
       "         [0.49707502],\n",
       "         ...,\n",
       "         [0.49643207],\n",
       "         [0.49923015],\n",
       "         [0.5029981 ]],\n",
       "\n",
       "        [[0.50677854],\n",
       "         [0.5018038 ],\n",
       "         [0.5001552 ],\n",
       "         ...,\n",
       "         [0.49460116],\n",
       "         [0.5019967 ],\n",
       "         [0.50407934]],\n",
       "\n",
       "        ...,\n",
       "\n",
       "        [[0.4940483 ],\n",
       "         [0.4962624 ],\n",
       "         [0.5006744 ],\n",
       "         ...,\n",
       "         [0.49880254],\n",
       "         [0.4996162 ],\n",
       "         [0.50045085]],\n",
       "\n",
       "        [[0.4965431 ],\n",
       "         [0.4975845 ],\n",
       "         [0.4966451 ],\n",
       "         ...,\n",
       "         [0.502874  ],\n",
       "         [0.5027692 ],\n",
       "         [0.50176185]],\n",
       "\n",
       "        [[0.49678376],\n",
       "         [0.49824286],\n",
       "         [0.49860695],\n",
       "         ...,\n",
       "         [0.5022199 ],\n",
       "         [0.5014953 ],\n",
       "         [0.5033508 ]]],\n",
       "\n",
       "\n",
       "       [[[0.501619  ],\n",
       "         [0.5058366 ],\n",
       "         [0.50945234],\n",
       "         ...,\n",
       "         [0.49615642],\n",
       "         [0.50517315],\n",
       "         [0.50241286]],\n",
       "\n",
       "        [[0.5009672 ],\n",
       "         [0.49707076],\n",
       "         [0.5052181 ],\n",
       "         ...,\n",
       "         [0.4963913 ],\n",
       "         [0.5046203 ],\n",
       "         [0.504615  ]],\n",
       "\n",
       "        [[0.49921256],\n",
       "         [0.49634725],\n",
       "         [0.50372714],\n",
       "         ...,\n",
       "         [0.49849388],\n",
       "         [0.50327295],\n",
       "         [0.50638634]],\n",
       "\n",
       "        ...,\n",
       "\n",
       "        [[0.4996631 ],\n",
       "         [0.49900812],\n",
       "         [0.5010641 ],\n",
       "         ...,\n",
       "         [0.50426584],\n",
       "         [0.5018571 ],\n",
       "         [0.5018503 ]],\n",
       "\n",
       "        [[0.49800232],\n",
       "         [0.4945839 ],\n",
       "         [0.49966264],\n",
       "         ...,\n",
       "         [0.50095046],\n",
       "         [0.50411284],\n",
       "         [0.50315195]],\n",
       "\n",
       "        [[0.5001268 ],\n",
       "         [0.4996046 ],\n",
       "         [0.5016266 ],\n",
       "         ...,\n",
       "         [0.5005343 ],\n",
       "         [0.5020223 ],\n",
       "         [0.50096685]]],\n",
       "\n",
       "\n",
       "       [[[0.5002348 ],\n",
       "         [0.5047981 ],\n",
       "         [0.50164866],\n",
       "         ...,\n",
       "         [0.5024692 ],\n",
       "         [0.5020227 ],\n",
       "         [0.50157875]],\n",
       "\n",
       "        [[0.5037631 ],\n",
       "         [0.49521586],\n",
       "         [0.4937017 ],\n",
       "         ...,\n",
       "         [0.49791938],\n",
       "         [0.49918398],\n",
       "         [0.50346136]],\n",
       "\n",
       "        [[0.50723124],\n",
       "         [0.5051189 ],\n",
       "         [0.4943245 ],\n",
       "         ...,\n",
       "         [0.48981854],\n",
       "         [0.49796626],\n",
       "         [0.5033364 ]],\n",
       "\n",
       "        ...,\n",
       "\n",
       "        [[0.49406847],\n",
       "         [0.48913065],\n",
       "         [0.5008121 ],\n",
       "         ...,\n",
       "         [0.50560343],\n",
       "         [0.5006308 ],\n",
       "         [0.50218004]],\n",
       "\n",
       "        [[0.49753976],\n",
       "         [0.49722657],\n",
       "         [0.50656575],\n",
       "         ...,\n",
       "         [0.5001296 ],\n",
       "         [0.50110745],\n",
       "         [0.5019011 ]],\n",
       "\n",
       "        [[0.49926177],\n",
       "         [0.50093645],\n",
       "         [0.5040176 ],\n",
       "         ...,\n",
       "         [0.49438122],\n",
       "         [0.49601045],\n",
       "         [0.49852046]]]], dtype=float32)"
      ]
     },
     "execution_count": 16,
     "metadata": {},
     "output_type": "execute_result"
    }
   ],
   "source": [
    "imgs = generator.predict(np.random.randn(4,128,1))\n",
    "imgs"
   ]
  },
  {
   "cell_type": "code",
   "execution_count": 17,
   "metadata": {},
   "outputs": [
    {
     "data": {
      "text/plain": [
       "(4, 28, 28, 1)"
      ]
     },
     "execution_count": 17,
     "metadata": {},
     "output_type": "execute_result"
    }
   ],
   "source": [
    "imgs.shape"
   ]
  },
  {
   "cell_type": "code",
   "execution_count": 18,
   "metadata": {},
   "outputs": [
    {
     "name": "stdout",
     "output_type": "stream",
     "text": [
      "1/1 [==============================] - 0s 17ms/step\n"
     ]
    },
    {
     "data": {
      "image/png": "[encoded data removed]",
      "text/plain": [
       "<Figure size 2000x2000 with 4 Axes>"
      ]
     },
     "metadata": {},
     "output_type": "display_data"
    }
   ],
   "source": [
    "#plota imagens NÃO TREINADAS\n",
    "imgs = generator.predict(np.random.randn(4,128,1))\n",
    "fig, ax = plt.subplots(ncols=4,figsize=(20,20))\n",
    "for idx, img in enumerate(imgs):\n",
    "    #plota a imagem\n",
    "    ax[idx].imshow(np.squeeze(img))\n",
    "    #adiciona a label\n",
    "    ax[idx].title.set_text(idx)\n"
   ]
  },
  {
   "cell_type": "code",
   "execution_count": 19,
   "metadata": {},
   "outputs": [],
   "source": [
    "# Construir o Discriminator\n",
    "\n",
    "def build_discriminator():\n",
    "    model = Sequential()\n",
    "\n",
    "    # Bloco Conv 1\n",
    "    model.add(Conv2D(32,5,input_shape=(28,28,1))) #input_shape igual à saída do generator\n",
    "    model.add(LeakyReLU(0.2))\n",
    "    model.add(Dropout(0.4)) # precisamos dificultar o treino do discrimnator para equilibrar com o generator\n",
    "\n",
    "    # Bloco Conv 2\n",
    "    model.add(Conv2D(64,5))\n",
    "    model.add(LeakyReLU(0.2))\n",
    "    model.add(Dropout(0.4))\n",
    "\n",
    "    # Bloco Conv 3\n",
    "    model.add(Conv2D(128,5))\n",
    "    model.add(LeakyReLU(0.2))\n",
    "    model.add(Dropout(0.4))\n",
    "\n",
    "    # Bloco Conv 4\n",
    "    model.add(Conv2D(256,5))\n",
    "    model.add(LeakyReLU(0.2))\n",
    "    model.add(Dropout(0.4))\n",
    "\n",
    "    # Flatten e Dense layer\n",
    "    model.add(Flatten())\n",
    "    model.add(Dropout(0.4))\n",
    "    model.add(Dense(1,activation='sigmoid')) # classifica entre imagem falsa e verdadeira\n",
    "\n",
    "\n",
    "    return model"
   ]
  },
  {
   "cell_type": "code",
   "execution_count": 20,
   "metadata": {},
   "outputs": [],
   "source": [
    "discriminator = build_discriminator()"
   ]
  },
  {
   "cell_type": "code",
   "execution_count": 21,
   "metadata": {},
   "outputs": [
    {
     "name": "stdout",
     "output_type": "stream",
     "text": [
      "Model: \"sequential_1\"\n",
      "_________________________________________________________________\n",
      " Layer (type)                Output Shape              Param #   \n",
      "=================================================================\n",
      " conv2d_5 (Conv2D)           (None, 24, 24, 32)        832       \n",
      "                                                                 \n",
      " leaky_re_lu_5 (LeakyReLU)   (None, 24, 24, 32)        0         \n",
      "                                                                 \n",
      " dropout (Dropout)           (None, 24, 24, 32)        0         \n",
      "                                                                 \n",
      " conv2d_6 (Conv2D)           (None, 20, 20, 64)        51264     \n",
      "                                                                 \n",
      " leaky_re_lu_6 (LeakyReLU)   (None, 20, 20, 64)        0         \n",
      "                                                                 \n",
      " dropout_1 (Dropout)         (None, 20, 20, 64)        0         \n",
      "                                                                 \n",
      " conv2d_7 (Conv2D)           (None, 16, 16, 128)       204928    \n",
      "                                                                 \n",
      " leaky_re_lu_7 (LeakyReLU)   (None, 16, 16, 128)       0         \n",
      "                                                                 \n",
      " dropout_2 (Dropout)         (None, 16, 16, 128)       0         \n",
      "                                                                 \n",
      " conv2d_8 (Conv2D)           (None, 12, 12, 256)       819456    \n",
      "                                                                 \n",
      " leaky_re_lu_8 (LeakyReLU)   (None, 12, 12, 256)       0         \n",
      "                                                                 \n",
      " dropout_3 (Dropout)         (None, 12, 12, 256)       0         \n",
      "                                                                 \n",
      " flatten (Flatten)           (None, 36864)             0         \n",
      "                                                                 \n",
      " dropout_4 (Dropout)         (None, 36864)             0         \n",
      "                                                                 \n",
      " dense_1 (Dense)             (None, 1)                 36865     \n",
      "                                                                 \n",
      "=================================================================\n",
      "Total params: 1,113,345\n",
      "Trainable params: 1,113,345\n",
      "Non-trainable params: 0\n",
      "_________________________________________________________________\n"
     ]
    }
   ],
   "source": [
    "discriminator.summary()"
   ]
  },
  {
   "cell_type": "code",
   "execution_count": 22,
   "metadata": {},
   "outputs": [
    {
     "name": "stdout",
     "output_type": "stream",
     "text": [
      "1/1 [==============================] - 0s 146ms/step\n"
     ]
    },
    {
     "data": {
      "text/plain": [
       "array([[0.49794543],\n",
       "       [0.4980203 ],\n",
       "       [0.49807933],\n",
       "       [0.4979691 ]], dtype=float32)"
      ]
     },
     "execution_count": 22,
     "metadata": {},
     "output_type": "execute_result"
    }
   ],
   "source": [
    "discriminator.predict(imgs) #0==False 1==True NÃO TREINADA"
   ]
  },
  {
   "attachments": {},
   "cell_type": "markdown",
   "metadata": {},
   "source": [
    "CONSTRUÇÃO DO LOOP DE TREINO PERSONALIZADO\n",
    "\n",
    "O problema é encontrar o equilibrio entre o treino do discriminator e do generator. Para isso, adiconaremos erros propositais no dataset do discriminator"
   ]
  },
  {
   "cell_type": "code",
   "execution_count": 23,
   "metadata": {},
   "outputs": [],
   "source": [
    "#import optimizers e losses\n",
    "from tensorflow.keras.optimizers import Adam\n",
    "from tensorflow.keras.losses import BinaryCrossentropy"
   ]
  },
  {
   "cell_type": "code",
   "execution_count": 24,
   "metadata": {},
   "outputs": [],
   "source": [
    "g_opt=Adam(learning_rate=0.0001)\n",
    "d_opt=Adam(learning_rate=0.00001) # mais lento que o generator\n",
    "g_loss=BinaryCrossentropy()\n",
    "d_loss=BinaryCrossentropy()"
   ]
  },
  {
   "cell_type": "code",
   "execution_count": 25,
   "metadata": {},
   "outputs": [],
   "source": [
    "# importa modelo base para usarmos uma subclasse no treino\n",
    "from tensorflow.keras.models import Model"
   ]
  },
  {
   "cell_type": "code",
   "execution_count": 26,
   "metadata": {},
   "outputs": [],
   "source": [
    "class kmnistGAN(Model):\n",
    "    def __init__(self,generator,discriminator,*args,**kwargs):\n",
    "        super().__init__(*args,**kwargs)\n",
    "        self.gen=generator\n",
    "        self.disc=discriminator\n",
    "\n",
    "    def compile(self,g_opt,d_opt,g_loss,d_loss,*args,**kwargs):\n",
    "        super().compile(*args,**kwargs)\n",
    "        self.g_opt=g_opt\n",
    "        self.d_opt=d_opt\n",
    "        self.g_loss=g_loss\n",
    "        self.d_loss=d_loss\n",
    "        \n",
    "    def train_step(self,batch):\n",
    "        real_images=batch\n",
    "        fake_images=self.gen(tf.random.normal((128,128,1)),training=False)\n",
    "\n",
    "        # treinar discriminator\n",
    "        with tf.GradientTape() as d_tape:\n",
    "            # passar imagens reais e falsas\n",
    "            yhat_real = self.disc(real_images,training=True)\n",
    "            yhat_fake = self.disc(fake_images,training=True)\n",
    "            yhat_realfake = tf.concat([yhat_real,yhat_fake],axis=0)\n",
    "\n",
    "            # criar labels para as imagens\n",
    "            y_realfake = tf.concat([tf.zeros_like(yhat_real),tf.ones_like(yhat_fake)],axis=0) # \"True y values\"\n",
    "\n",
    "            # adicionar erros\n",
    "            noise_real = 0.15*tf.random.uniform(tf.shape(yhat_real))\n",
    "            noise_fake=-0.15*tf.random.uniform(tf.shape(yhat_fake))\n",
    "            y_realfake+=tf.concat([noise_real,noise_fake],axis=0)\n",
    "\n",
    "            # calcular loss\n",
    "            total_d_loss = self.d_loss(y_realfake,yhat_realfake)\n",
    "\n",
    "        # aplicar backpropagation - nn aprende\n",
    "        dgrad = d_tape.gradient(total_d_loss,self.disc.trainable_variables)\n",
    "        self.d_opt.apply_gradients(zip(dgrad,self.disc.trainable_variables))\n",
    "\n",
    "        # treinar generator\n",
    "        with tf.GradientTape() as g_tape:\n",
    "            # gerar imagens\n",
    "            gen_images = self.gen(tf.random.normal((128,128,1)),training=True)\n",
    "\n",
    "            # criar labels previstos\n",
    "            predicted_labels = self.disc(gen_images,training=False)\n",
    "\n",
    "            # calcular loss\n",
    "            total_g_loss = self.g_loss(tf.zeros_like(predicted_labels),predicted_labels) # loss diminui quando generator consegue enganar o discriminator\n",
    "\n",
    "        # aplicar backpropagation\n",
    "        ggrad = g_tape.gradient(total_g_loss,self.gen.trainable_variables)\n",
    "        self.g_opt.apply_gradients(zip(ggrad,self.gen.trainable_variables))\n",
    "\n",
    "        return {'d_loss': total_d_loss, 'g_loss':total_g_loss}"
   ]
  },
  {
   "cell_type": "code",
   "execution_count": 27,
   "metadata": {},
   "outputs": [],
   "source": [
    "kminGAN = kmnistGAN(generator,discriminator)"
   ]
  },
  {
   "cell_type": "code",
   "execution_count": 28,
   "metadata": {},
   "outputs": [],
   "source": [
    "kminGAN.compile(g_opt,d_opt,g_loss,d_loss)"
   ]
  },
  {
   "cell_type": "code",
   "execution_count": 29,
   "metadata": {},
   "outputs": [],
   "source": [
    "# construir callback\n",
    "import os\n",
    "from tensorflow.keras.preprocessing.image import array_to_img\n",
    "from tensorflow.keras.callbacks import Callback"
   ]
  },
  {
   "cell_type": "code",
   "execution_count": 30,
   "metadata": {},
   "outputs": [],
   "source": [
    "class ModelMonitor(Callback):\n",
    "    def __init__(self, num_img=3,latent_dim=128):\n",
    "        self.num_img=num_img\n",
    "        self.latent_dim=latent_dim\n",
    "\n",
    "    def on_epoch_end(self,epoch,logs=None):\n",
    "        random_latent_vectors = tf.random.uniform((self.num_img,self.latent_dim,1))\n",
    "        generated_images = self.model.gen(random_latent_vectors)\n",
    "        generated_images*=255\n",
    "        generated_images.numpy()\n",
    "        for i in range(self.num_img):\n",
    "            img = array_to_img(generated_images[i])\n",
    "            img.save(os.path.join('images-kmnist',f'generated)img_{epoch}_{i}.png'))"
   ]
  },
  {
   "cell_type": "code",
   "execution_count": 31,
   "metadata": {},
   "outputs": [
    {
     "name": "stdout",
     "output_type": "stream",
     "text": [
      "Epoch 1/100\n",
      "469/469 [==============================] - 72s 136ms/step - d_loss: 0.4671 - g_loss: 3.1178\n",
      "Epoch 2/100\n",
      "469/469 [==============================] - 72s 154ms/step - d_loss: 0.2711 - g_loss: 4.8604\n",
      "Epoch 3/100\n",
      "469/469 [==============================] - 76s 161ms/step - d_loss: 0.4118 - g_loss: 1.8054\n",
      "Epoch 4/100\n",
      "469/469 [==============================] - 74s 159ms/step - d_loss: 0.2761 - g_loss: 2.5737\n",
      "Epoch 5/100\n",
      "469/469 [==============================] - 73s 155ms/step - d_loss: 0.2770 - g_loss: 7.2034\n",
      "Epoch 6/100\n",
      "469/469 [==============================] - 73s 155ms/step - d_loss: 0.2712 - g_loss: 6.8107\n",
      "Epoch 7/100\n",
      "469/469 [==============================] - 75s 159ms/step - d_loss: 0.2701 - g_loss: 6.1118\n",
      "Epoch 8/100\n",
      "469/469 [==============================] - 75s 160ms/step - d_loss: 0.2695 - g_loss: 5.6307\n",
      "Epoch 9/100\n",
      "469/469 [==============================] - 76s 162ms/step - d_loss: 0.2691 - g_loss: 5.2443\n",
      "Epoch 10/100\n",
      "469/469 [==============================] - 77s 164ms/step - d_loss: 0.2682 - g_loss: 4.9691\n",
      "Epoch 11/100\n",
      "469/469 [==============================] - 78s 167ms/step - d_loss: 0.3373 - g_loss: 3.2197\n",
      "Epoch 12/100\n",
      "469/469 [==============================] - 80s 170ms/step - d_loss: 0.6509 - g_loss: 0.7366\n",
      "Epoch 13/100\n",
      "469/469 [==============================] - 79s 169ms/step - d_loss: 0.5471 - g_loss: 0.4107\n",
      "Epoch 14/100\n",
      "469/469 [==============================] - 79s 169ms/step - d_loss: 0.6937 - g_loss: 0.3193\n",
      "Epoch 15/100\n",
      "469/469 [==============================] - 79s 168ms/step - d_loss: 0.7025 - g_loss: 0.6024\n",
      "Epoch 16/100\n",
      "469/469 [==============================] - 79s 168ms/step - d_loss: 0.6982 - g_loss: 0.6421\n",
      "Epoch 17/100\n",
      "469/469 [==============================] - 75s 161ms/step - d_loss: 0.6947 - g_loss: 0.6611\n",
      "Epoch 18/100\n",
      "469/469 [==============================] - 75s 161ms/step - d_loss: 0.6934 - g_loss: 0.6570\n",
      "Epoch 19/100\n",
      "469/469 [==============================] - 75s 161ms/step - d_loss: 0.6938 - g_loss: 0.6550\n",
      "Epoch 20/100\n",
      "469/469 [==============================] - 76s 162ms/step - d_loss: 0.6916 - g_loss: 0.6457\n",
      "Epoch 21/100\n",
      "469/469 [==============================] - 76s 162ms/step - d_loss: 0.6933 - g_loss: 0.6472\n",
      "Epoch 22/100\n",
      "469/469 [==============================] - 76s 163ms/step - d_loss: 0.6922 - g_loss: 0.6534\n",
      "Epoch 23/100\n",
      "469/469 [==============================] - 76s 163ms/step - d_loss: 0.6930 - g_loss: 0.6409\n",
      "Epoch 24/100\n",
      "469/469 [==============================] - 76s 163ms/step - d_loss: 0.6926 - g_loss: 0.6508\n",
      "Epoch 25/100\n",
      "469/469 [==============================] - 5269s 11s/step - d_loss: 0.6929 - g_loss: 0.6477\n",
      "Epoch 26/100\n",
      "469/469 [==============================] - 65s 139ms/step - d_loss: 0.6904 - g_loss: 0.6350\n",
      "Epoch 27/100\n",
      "469/469 [==============================] - 69s 148ms/step - d_loss: 0.6883 - g_loss: 0.6246\n",
      "Epoch 28/100\n",
      "469/469 [==============================] - 72s 154ms/step - d_loss: 0.6890 - g_loss: 0.6039\n",
      "Epoch 29/100\n",
      "469/469 [==============================] - 74s 158ms/step - d_loss: 0.6890 - g_loss: 0.5935\n",
      "Epoch 30/100\n",
      "469/469 [==============================] - 73s 155ms/step - d_loss: 0.6879 - g_loss: 0.6050\n",
      "Epoch 31/100\n",
      "469/469 [==============================] - 72s 152ms/step - d_loss: 0.6800 - g_loss: 0.5571\n",
      "Epoch 32/100\n",
      "469/469 [==============================] - 72s 154ms/step - d_loss: 0.6874 - g_loss: 0.5537\n",
      "Epoch 33/100\n",
      "469/469 [==============================] - 73s 156ms/step - d_loss: 0.6897 - g_loss: 0.5581\n",
      "Epoch 34/100\n",
      "469/469 [==============================] - 73s 157ms/step - d_loss: 0.6943 - g_loss: 0.5753\n",
      "Epoch 35/100\n",
      "469/469 [==============================] - 74s 158ms/step - d_loss: 0.6912 - g_loss: 0.5756\n",
      "Epoch 36/100\n",
      "469/469 [==============================] - 74s 159ms/step - d_loss: 0.6879 - g_loss: 0.6109\n",
      "Epoch 37/100\n",
      "469/469 [==============================] - 75s 160ms/step - d_loss: 0.6986 - g_loss: 0.6053\n",
      "Epoch 38/100\n",
      "469/469 [==============================] - 75s 161ms/step - d_loss: 0.6966 - g_loss: 0.6323\n",
      "Epoch 39/100\n",
      "469/469 [==============================] - 76s 162ms/step - d_loss: 0.6930 - g_loss: 0.6307\n",
      "Epoch 40/100\n",
      "469/469 [==============================] - 77s 165ms/step - d_loss: 0.6912 - g_loss: 0.6320\n",
      "Epoch 41/100\n",
      "469/469 [==============================] - 77s 164ms/step - d_loss: 0.6957 - g_loss: 0.6380\n",
      "Epoch 42/100\n",
      "469/469 [==============================] - 77s 164ms/step - d_loss: 0.6942 - g_loss: 0.6452\n",
      "Epoch 43/100\n",
      "469/469 [==============================] - 78s 167ms/step - d_loss: 0.6943 - g_loss: 0.6538\n",
      "Epoch 44/100\n",
      "469/469 [==============================] - 80s 171ms/step - d_loss: 0.6945 - g_loss: 0.6432\n",
      "Epoch 45/100\n",
      "469/469 [==============================] - 81s 173ms/step - d_loss: 0.6945 - g_loss: 0.6637\n",
      "Epoch 46/100\n",
      "469/469 [==============================] - 80s 170ms/step - d_loss: 0.4695 - g_loss: 0.4432\n",
      "Epoch 47/100\n",
      "469/469 [==============================] - 80s 170ms/step - d_loss: 0.2983 - g_loss: 0.0637\n",
      "Epoch 48/100\n",
      "469/469 [==============================] - 80s 170ms/step - d_loss: 0.5592 - g_loss: 0.2291\n",
      "Epoch 49/100\n",
      "469/469 [==============================] - 81s 172ms/step - d_loss: 0.6927 - g_loss: 0.5679\n",
      "Epoch 50/100\n",
      "469/469 [==============================] - 82s 174ms/step - d_loss: 0.6929 - g_loss: 0.6123\n",
      "Epoch 51/100\n",
      "469/469 [==============================] - 81s 173ms/step - d_loss: 0.6882 - g_loss: 0.6020\n",
      "Epoch 52/100\n",
      "469/469 [==============================] - 80s 171ms/step - d_loss: 0.6865 - g_loss: 0.6079\n",
      "Epoch 53/100\n",
      "469/469 [==============================] - 79s 168ms/step - d_loss: 0.6945 - g_loss: 0.6023\n",
      "Epoch 54/100\n",
      "469/469 [==============================] - 75s 160ms/step - d_loss: 0.6922 - g_loss: 0.5987\n",
      "Epoch 55/100\n",
      "469/469 [==============================] - 75s 160ms/step - d_loss: 0.6821 - g_loss: 0.5984\n",
      "Epoch 56/100\n",
      "469/469 [==============================] - 75s 160ms/step - d_loss: 0.6909 - g_loss: 0.5841\n",
      "Epoch 57/100\n",
      "469/469 [==============================] - 75s 160ms/step - d_loss: 0.5814 - g_loss: 1.1968\n",
      "Epoch 58/100\n",
      "469/469 [==============================] - 75s 160ms/step - d_loss: 0.2722 - g_loss: 2.8114\n",
      "Epoch 59/100\n",
      "469/469 [==============================] - 75s 160ms/step - d_loss: 0.2692 - g_loss: 2.8845\n",
      "Epoch 60/100\n",
      "469/469 [==============================] - 76s 161ms/step - d_loss: 0.2686 - g_loss: 2.9417\n",
      "Epoch 61/100\n",
      "469/469 [==============================] - 6058s 13s/step - d_loss: 0.2677 - g_loss: 2.9811\n",
      "Epoch 62/100\n",
      "469/469 [==============================] - 59s 127ms/step - d_loss: 0.2680 - g_loss: 3.0197\n",
      "Epoch 63/100\n",
      "469/469 [==============================] - 68s 144ms/step - d_loss: 0.2671 - g_loss: 3.0589\n",
      "Epoch 64/100\n",
      "469/469 [==============================] - 73s 156ms/step - d_loss: 0.2675 - g_loss: 3.0836\n",
      "Epoch 65/100\n",
      "469/469 [==============================] - 73s 156ms/step - d_loss: 0.2666 - g_loss: 3.1066\n",
      "Epoch 66/100\n",
      "469/469 [==============================] - 72s 153ms/step - d_loss: 0.3051 - g_loss: 2.8025\n",
      "Epoch 67/100\n",
      "469/469 [==============================] - 73s 155ms/step - d_loss: 0.5951 - g_loss: 0.3020\n",
      "Epoch 68/100\n",
      "469/469 [==============================] - 74s 157ms/step - d_loss: 0.6898 - g_loss: 0.5172\n",
      "Epoch 69/100\n",
      "469/469 [==============================] - 75s 161ms/step - d_loss: 0.7000 - g_loss: 0.5503\n",
      "Epoch 70/100\n",
      "469/469 [==============================] - 76s 162ms/step - d_loss: 0.6806 - g_loss: 0.5376\n",
      "Epoch 71/100\n",
      "469/469 [==============================] - 78s 166ms/step - d_loss: 0.6969 - g_loss: 0.5186\n",
      "Epoch 72/100\n",
      "469/469 [==============================] - 79s 169ms/step - d_loss: 0.6965 - g_loss: 0.5744\n",
      "Epoch 73/100\n",
      "469/469 [==============================] - 76s 162ms/step - d_loss: 0.6968 - g_loss: 0.5862\n",
      "Epoch 74/100\n",
      "469/469 [==============================] - 77s 164ms/step - d_loss: 0.6962 - g_loss: 0.6012\n",
      "Epoch 75/100\n",
      "469/469 [==============================] - 77s 164ms/step - d_loss: 0.6946 - g_loss: 0.6234\n",
      "Epoch 76/100\n",
      "469/469 [==============================] - 78s 166ms/step - d_loss: 0.6950 - g_loss: 0.6150\n",
      "Epoch 77/100\n",
      "469/469 [==============================] - 78s 166ms/step - d_loss: 0.6968 - g_loss: 0.6226\n",
      "Epoch 78/100\n",
      "469/469 [==============================] - 78s 167ms/step - d_loss: 0.6947 - g_loss: 0.6275\n",
      "Epoch 79/100\n",
      "469/469 [==============================] - 79s 168ms/step - d_loss: 0.6912 - g_loss: 0.6499\n",
      "Epoch 80/100\n",
      "469/469 [==============================] - 80s 170ms/step - d_loss: 0.6823 - g_loss: 0.5920\n",
      "Epoch 81/100\n",
      "469/469 [==============================] - 81s 172ms/step - d_loss: 0.6924 - g_loss: 0.5863\n",
      "Epoch 82/100\n",
      "469/469 [==============================] - 82s 174ms/step - d_loss: 0.6953 - g_loss: 0.6164\n",
      "Epoch 83/100\n",
      "469/469 [==============================] - 83s 176ms/step - d_loss: 0.6924 - g_loss: 0.6156\n",
      "Epoch 84/100\n",
      "469/469 [==============================] - 81s 173ms/step - d_loss: 0.6946 - g_loss: 0.6198\n",
      "Epoch 85/100\n",
      "469/469 [==============================] - 80s 170ms/step - d_loss: 0.6948 - g_loss: 0.6325\n",
      "Epoch 86/100\n",
      "469/469 [==============================] - 82s 174ms/step - d_loss: 0.6935 - g_loss: 0.6190\n",
      "Epoch 87/100\n",
      "469/469 [==============================] - 80s 170ms/step - d_loss: 0.6928 - g_loss: 0.6359\n",
      "Epoch 88/100\n",
      "469/469 [==============================] - 82s 174ms/step - d_loss: 0.6915 - g_loss: 0.6319\n",
      "Epoch 89/100\n",
      "469/469 [==============================] - 82s 175ms/step - d_loss: 0.6947 - g_loss: 0.6084\n",
      "Epoch 90/100\n",
      "469/469 [==============================] - 81s 173ms/step - d_loss: 0.6959 - g_loss: 0.6332\n",
      "Epoch 91/100\n",
      "469/469 [==============================] - 83s 176ms/step - d_loss: 0.6956 - g_loss: 0.6537\n",
      "Epoch 92/100\n",
      "469/469 [==============================] - 82s 175ms/step - d_loss: 0.6943 - g_loss: 0.6626\n",
      "Epoch 93/100\n",
      "469/469 [==============================] - 82s 175ms/step - d_loss: 0.6916 - g_loss: 0.6541\n",
      "Epoch 94/100\n",
      "469/469 [==============================] - 82s 176ms/step - d_loss: 0.6933 - g_loss: 0.6391\n",
      "Epoch 95/100\n",
      "469/469 [==============================] - 84s 178ms/step - d_loss: 0.6947 - g_loss: 0.6385\n",
      "Epoch 96/100\n",
      "469/469 [==============================] - 83s 177ms/step - d_loss: 0.6935 - g_loss: 0.6372\n",
      "Epoch 97/100\n",
      "469/469 [==============================] - 83s 176ms/step - d_loss: 0.6804 - g_loss: 0.6382\n",
      "Epoch 98/100\n",
      "469/469 [==============================] - 83s 178ms/step - d_loss: 0.6929 - g_loss: 0.6240\n",
      "Epoch 99/100\n",
      "469/469 [==============================] - 81s 173ms/step - d_loss: 0.6933 - g_loss: 0.5991\n",
      "Epoch 100/100\n",
      "469/469 [==============================] - 81s 173ms/step - d_loss: 0.6935 - g_loss: 0.6040\n"
     ]
    }
   ],
   "source": [
    "hist = kminGAN.fit(ds,epochs=100,callbacks=[ModelMonitor()])"
   ]
  },
  {
   "cell_type": "code",
   "execution_count": 32,
   "metadata": {},
   "outputs": [
    {
     "data": {
      "image/png": "[encoded data removed]",
      "text/plain": [
       "<Figure size 640x480 with 1 Axes>"
      ]
     },
     "metadata": {},
     "output_type": "display_data"
    }
   ],
   "source": [
    "# performance\n",
    "\n",
    "plt.suptitle('Loss')\n",
    "plt.plot(hist.history['d_loss'],label='d_loss')\n",
    "plt.plot(hist.history['g_loss'],label='g_loss')\n",
    "plt.legend\n",
    "plt.show()"
   ]
  },
  {
   "attachments": {},
   "cell_type": "markdown",
   "metadata": {},
   "source": [
    "GERAR IMAGENS COM O GENERATOR"
   ]
  },
  {
   "cell_type": "code",
   "execution_count": 43,
   "metadata": {},
   "outputs": [
    {
     "name": "stdout",
     "output_type": "stream",
     "text": [
      "1/1 [==============================] - 0s 21ms/step\n"
     ]
    },
    {
     "data": {
      "image/png": "[encoded data removed]",
      "text/plain": [
       "<Figure size 2000x2000 with 16 Axes>"
      ]
     },
     "metadata": {},
     "output_type": "display_data"
    }
   ],
   "source": [
    "# Imagens TREINADAS\n",
    "\n",
    "imgs=generator.predict(tf.random.uniform((16,128,1)))\n",
    "fig, ax = plt.subplots(ncols=4,nrows=4,figsize=(20,20))\n",
    "for r in range(4):\n",
    "    for c in range(4):\n",
    "        ax[r][c].imshow(imgs[(r+1)*(c+1)-1])"
   ]
  },
  {
   "cell_type": "code",
   "execution_count": 44,
   "metadata": {},
   "outputs": [
    {
     "name": "stdout",
     "output_type": "stream",
     "text": [
      "WARNING:tensorflow:Compiled the loaded model, but the compiled metrics have yet to be built. `model.compile_metrics` will be empty until you train or evaluate the model.\n"
     ]
    },
    {
     "name": "stderr",
     "output_type": "stream",
     "text": [
      "WARNING:tensorflow:Compiled the loaded model, but the compiled metrics have yet to be built. `model.compile_metrics` will be empty until you train or evaluate the model.\n"
     ]
    },
    {
     "name": "stdout",
     "output_type": "stream",
     "text": [
      "WARNING:tensorflow:Compiled the loaded model, but the compiled metrics have yet to be built. `model.compile_metrics` will be empty until you train or evaluate the model.\n"
     ]
    },
    {
     "name": "stderr",
     "output_type": "stream",
     "text": [
      "WARNING:tensorflow:Compiled the loaded model, but the compiled metrics have yet to be built. `model.compile_metrics` will be empty until you train or evaluate the model.\n"
     ]
    }
   ],
   "source": [
    "generator.save(\"generator-kmnist.h5\")\n",
    "discriminator.save('discriminator-kmnist.h5')"
   ]
  }
 ],
 "metadata": {
  "kernelspec": {
   "display_name": "Python 3",
   "language": "python",
   "name": "python3"
  },
  "language_info": {
   "codemirror_mode": {
    "name": "ipython",
    "version": 3
   },
   "file_extension": ".py",
   "mimetype": "text/x-python",
   "name": "python",
   "nbconvert_exporter": "python",
   "pygments_lexer": "ipython3",
   "version": "3.10.5"
  },
  "orig_nbformat": 4,
  "vscode": {
   "interpreter": {
    "hash": "d2b727a53bc630e3016b6bc68dd373ebf565d76a51f2b958a785be966eb27a09"
   }
  }
 },
 "nbformat": 4,
 "nbformat_minor": 2
}
